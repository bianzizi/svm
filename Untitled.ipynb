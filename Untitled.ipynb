{
 "cells": [
  {
   "cell_type": "markdown",
   "id": "5c040596",
   "metadata": {},
   "source": [
    "# 比较LinearSVC SVC SDGC"
   ]
  },
  {
   "cell_type": "code",
   "execution_count": 18,
   "id": "b613d242",
   "metadata": {},
   "outputs": [],
   "source": [
    "from sklearn import datasets\n",
    "\n",
    "iris = datasets.load_iris()\n",
    "X = iris[\"data\"][:, (2, 3)]\n",
    "y = iris[\"target\"]\n",
    "\n",
    "setosa_or_versicolor = (y == 0) | (y == 1)\n",
    "X = X[setosa_or_versicolor]\n",
    "y = y[setosa_or_versicolor]"
   ]
  },
  {
   "cell_type": "markdown",
   "id": "51961936",
   "metadata": {},
   "source": [
    "## LinearSVC"
   ]
  },
  {
   "cell_type": "code",
   "execution_count": 20,
   "id": "7a47a594",
   "metadata": {},
   "outputs": [
    {
     "name": "stdout",
     "output_type": "stream",
     "text": [
      "[0.28475098] [[1.05364854 1.09903804]]\n"
     ]
    }
   ],
   "source": [
    "from sklearn.svm import LinearSVC\n",
    "from sklearn.preprocessing import StandardScaler\n",
    "\n",
    "lin_clf = LinearSVC(loss='hinge', C=5, random_state=42)\n",
    "scaler = StandardScaler()\n",
    "X_scaled = scaler.fit_transform(X)\n",
    "\n",
    "lin_clf.fit(X_scaled, y)\n",
    "print(lin_clf.intercept_, lin_clf.coef_)"
   ]
  },
  {
   "cell_type": "markdown",
   "id": "33da3101",
   "metadata": {},
   "source": [
    "## SVC"
   ]
  },
  {
   "cell_type": "code",
   "execution_count": 24,
   "id": "196fa93b",
   "metadata": {},
   "outputs": [
    {
     "name": "stdout",
     "output_type": "stream",
     "text": [
      "[0.31896852] [[1.1203284  1.02625193]]\n"
     ]
    }
   ],
   "source": [
    "from sklearn.svm import SVC\n",
    "svm_clf = SVC(kernel=\"linear\", C=5)\n",
    "svm_clf.fit(X_scaled, y)\n",
    "print(svm_clf.intercept_, svm_clf.coef_)"
   ]
  },
  {
   "cell_type": "markdown",
   "id": "28e653a7",
   "metadata": {},
   "source": [
    "## SGDClassifier"
   ]
  },
  {
   "cell_type": "code",
   "execution_count": 40,
   "id": "65a81272",
   "metadata": {},
   "outputs": [
    {
     "name": "stdout",
     "output_type": "stream",
     "text": [
      "[0.3] [[1.13059932 1.19084486]]\n"
     ]
    }
   ],
   "source": [
    "from sklearn.linear_model import SGDClassifier\n",
    "sgd_clf = SGDClassifier(learning_rate=\"constant\", eta0= 0.1, random_state=42)\n",
    "sgd_clf.fit(X_scaled, y)\n",
    "print(sgd_clf.intercept_, sgd_clf.coef_)"
   ]
  },
  {
   "cell_type": "markdown",
   "id": "bc140982",
   "metadata": {},
   "source": [
    "---"
   ]
  },
  {
   "cell_type": "code",
   "execution_count": 2,
   "id": "17699ac5",
   "metadata": {},
   "outputs": [],
   "source": [
    "import numpy as np\n",
    "from sklearn.datasets import fetch_openml\n",
    "mnist = fetch_openml('mnist_784', version=1, cache=True, as_frame=False)\n",
    "mnist.target = mnist.target.astype(np.int8)"
   ]
  },
  {
   "cell_type": "code",
   "execution_count": 3,
   "id": "7a7f18c9",
   "metadata": {},
   "outputs": [],
   "source": [
    "x, y = mnist['data'], mnist['target']\n",
    "x_train, x_test = x[:60000], x[60000:]\n",
    "y_train, y_test = y[:60000], y[60000:]"
   ]
  },
  {
   "cell_type": "code",
   "execution_count": 4,
   "id": "af5450b6",
   "metadata": {},
   "outputs": [],
   "source": [
    "np.random.seed(42)\n",
    "shuffle_index = np.random.permutation(60000)\n",
    "x_train, y_train = x_train[shuffle_index], y_train[shuffle_index]"
   ]
  },
  {
   "cell_type": "code",
   "execution_count": 6,
   "id": "8e6b1fb9",
   "metadata": {},
   "outputs": [
    {
     "name": "stderr",
     "output_type": "stream",
     "text": [
      "/Users/biandashen/Desktop/ml/pythonProject/venv/lib/python3.9/site-packages/sklearn/svm/_base.py:1206: ConvergenceWarning: Liblinear failed to converge, increase the number of iterations.\n",
      "  warnings.warn(\n"
     ]
    },
    {
     "data": {
      "text/plain": [
       "LinearSVC(random_state=42)"
      ]
     },
     "execution_count": 6,
     "metadata": {},
     "output_type": "execute_result"
    }
   ],
   "source": [
    "from sklearn.svm import LinearSVC\n",
    "lin_clf = LinearSVC(random_state=42)\n",
    "lin_clf.fit(x_train, y_train)"
   ]
  },
  {
   "cell_type": "code",
   "execution_count": 7,
   "id": "2da23fba",
   "metadata": {},
   "outputs": [
    {
     "data": {
      "text/plain": [
       "0.8656166666666667"
      ]
     },
     "execution_count": 7,
     "metadata": {},
     "output_type": "execute_result"
    }
   ],
   "source": [
    "from sklearn.metrics import accuracy_score\n",
    "\n",
    "y_pred_lin = lin_clf.predict(x_train)\n",
    "accuracy_score(y_train, y_pred_lin)"
   ]
  },
  {
   "cell_type": "code",
   "execution_count": 9,
   "id": "31cc784e",
   "metadata": {},
   "outputs": [],
   "source": [
    "from sklearn.preprocessing import StandardScaler\n",
    "scaler = StandardScaler()\n",
    "x_train_scaled = scaler.fit_transform(x_train)\n",
    "x_test_scaled = scaler.transform(x_test)"
   ]
  },
  {
   "cell_type": "code",
   "execution_count": 11,
   "id": "6c3070bc",
   "metadata": {
    "scrolled": true
   },
   "outputs": [
    {
     "name": "stderr",
     "output_type": "stream",
     "text": [
      "/Users/biandashen/Desktop/ml/pythonProject/venv/lib/python3.9/site-packages/sklearn/svm/_base.py:1206: ConvergenceWarning: Liblinear failed to converge, increase the number of iterations.\n",
      "  warnings.warn(\n"
     ]
    },
    {
     "data": {
      "text/plain": [
       "0.92025"
      ]
     },
     "execution_count": 11,
     "metadata": {},
     "output_type": "execute_result"
    }
   ],
   "source": [
    "lin_clf.fit(x_train_scaled, y_train)\n",
    "y_pred_lin_scaled = lin_clf.predict(x_train_scaled)\n",
    "accuracy_score(y_train, y_pred_lin_scaled)"
   ]
  },
  {
   "cell_type": "code",
   "execution_count": 12,
   "id": "600896ff",
   "metadata": {},
   "outputs": [
    {
     "name": "stdout",
     "output_type": "stream",
     "text": [
      "Fitting 3 folds for each of 20 candidates, totalling 60 fits\n",
      "[CV] END .....C=8.370861069626262, gamma=0.07969454818643928; total time=   1.3s\n",
      "[CV] END .....C=8.370861069626262, gamma=0.07969454818643928; total time=   1.1s\n",
      "[CV] END .....C=8.370861069626262, gamma=0.07969454818643928; total time=   1.1s\n",
      "[CV] END ...C=11.587945476302647, gamma=0.015751320499779724; total time=   1.0s\n",
      "[CV] END ...C=11.587945476302647, gamma=0.015751320499779724; total time=   1.0s\n",
      "[CV] END ...C=11.587945476302647, gamma=0.015751320499779724; total time=   1.0s\n",
      "[CV] END ...C=6.4041677639819286, gamma=0.002051110418843397; total time=   0.9s\n",
      "[CV] END ...C=6.4041677639819286, gamma=0.002051110418843397; total time=   0.9s\n",
      "[CV] END ...C=6.4041677639819286, gamma=0.002051110418843397; total time=   1.1s\n",
      "[CV] END .....C=5.522752509513795, gamma=0.05399484409787431; total time=   1.1s\n",
      "[CV] END .....C=5.522752509513795, gamma=0.05399484409787431; total time=   1.1s\n",
      "[CV] END .....C=5.522752509513795, gamma=0.05399484409787431; total time=   1.1s\n",
      "[CV] END ....C=10.41003510568888, gamma=0.026070247583707663; total time=   1.0s\n",
      "[CV] END ....C=10.41003510568888, gamma=0.026070247583707663; total time=   1.0s\n",
      "[CV] END ....C=10.41003510568888, gamma=0.026070247583707663; total time=   1.1s\n",
      "[CV] END ......C=5.185260448662222, gamma=0.0870602087830485; total time=   1.2s\n",
      "[CV] END ......C=5.185260448662222, gamma=0.0870602087830485; total time=   1.3s\n",
      "[CV] END ......C=5.185260448662222, gamma=0.0870602087830485; total time=   1.2s\n",
      "[CV] END ..C=12.491983767203795, gamma=0.0026587543983272693; total time=   1.0s\n",
      "[CV] END ..C=12.491983767203795, gamma=0.0026587543983272693; total time=   1.0s\n",
      "[CV] END ..C=12.491983767203795, gamma=0.0026587543983272693; total time=   1.0s\n",
      "[CV] END ...C=6.636424704863906, gamma=0.0023270677083837795; total time=   1.1s\n",
      "[CV] END ...C=6.636424704863906, gamma=0.0023270677083837795; total time=   1.1s\n",
      "[CV] END ...C=6.636424704863906, gamma=0.0023270677083837795; total time=   1.2s\n",
      "[CV] END ....C=7.738180186635839, gamma=0.011207606211860567; total time=   1.1s\n",
      "[CV] END ....C=7.738180186635839, gamma=0.011207606211860567; total time=   1.0s\n",
      "[CV] END ....C=7.738180186635839, gamma=0.011207606211860567; total time=   1.1s\n",
      "[CV] END ....C=8.887505167779041, gamma=0.003823475224675185; total time=   1.2s\n",
      "[CV] END ....C=8.887505167779041, gamma=0.003823475224675185; total time=   1.1s\n",
      "[CV] END ....C=8.887505167779041, gamma=0.003823475224675185; total time=   1.0s\n",
      "[CV] END ..C=10.506676052501415, gamma=0.0019010245319870352; total time=   1.2s\n",
      "[CV] END ..C=10.506676052501415, gamma=0.0019010245319870352; total time=   1.1s\n",
      "[CV] END ..C=10.506676052501415, gamma=0.0019010245319870352; total time=   1.2s\n",
      "[CV] END ....C=7.629301836816963, gamma=0.005404103854647327; total time=   1.1s\n",
      "[CV] END ....C=7.629301836816963, gamma=0.005404103854647327; total time=   1.0s\n",
      "[CV] END ....C=7.629301836816963, gamma=0.005404103854647327; total time=   1.0s\n",
      "[CV] END .....C=9.104629857953324, gamma=0.03718364180573207; total time=   1.1s\n",
      "[CV] END .....C=9.104629857953324, gamma=0.03718364180573207; total time=   1.1s\n",
      "[CV] END .....C=9.104629857953324, gamma=0.03718364180573207; total time=   1.1s\n",
      "[CV] END ....C=6.797064039425237, gamma=0.010677482709481347; total time=   1.1s\n",
      "[CV] END ....C=6.797064039425237, gamma=0.010677482709481347; total time=   1.1s\n",
      "[CV] END ....C=6.797064039425237, gamma=0.010677482709481347; total time=   1.1s\n",
      "[CV] END ..C=10.331731119758382, gamma=0.0012385137298860929; total time=   1.1s\n",
      "[CV] END ..C=10.331731119758382, gamma=0.0012385137298860929; total time=   1.1s\n",
      "[CV] END ..C=10.331731119758382, gamma=0.0012385137298860929; total time=   1.1s\n",
      "[CV] END ..C=10.467903667112946, gamma=0.0021930485556643686; total time=   1.1s\n",
      "[CV] END ..C=10.467903667112946, gamma=0.0021930485556643686; total time=   1.1s\n",
      "[CV] END ..C=10.467903667112946, gamma=0.0021930485556643686; total time=   1.1s\n",
      "[CV] END .....C=5.585464336867515, gamma=0.07902619549708226; total time=   1.3s\n",
      "[CV] END .....C=5.585464336867515, gamma=0.07902619549708226; total time=   1.2s\n",
      "[CV] END .....C=5.585464336867515, gamma=0.07902619549708226; total time=   1.2s\n",
      "[CV] END ....C=13.690688297671034, gamma=0.04138040112561014; total time=   1.1s\n",
      "[CV] END ....C=13.690688297671034, gamma=0.04138040112561014; total time=   1.4s\n",
      "[CV] END ....C=13.690688297671034, gamma=0.04138040112561014; total time=   1.5s\n",
      "[CV] END ..C=7.7415239225603365, gamma=0.0015679933916723007; total time=   1.3s\n",
      "[CV] END ..C=7.7415239225603365, gamma=0.0015679933916723007; total time=   1.3s\n",
      "[CV] END ..C=7.7415239225603365, gamma=0.0015679933916723007; total time=   1.2s\n",
      "[CV] END ...C=11.158097238609411, gamma=0.007591104805282692; total time=   1.2s\n",
      "[CV] END ...C=11.158097238609411, gamma=0.007591104805282692; total time=   1.6s\n",
      "[CV] END ...C=11.158097238609411, gamma=0.007591104805282692; total time=   1.6s\n"
     ]
    },
    {
     "data": {
      "text/plain": [
       "RandomizedSearchCV(cv=3, estimator=SVR(), n_iter=20, n_jobs=1,\n",
       "                   param_distributions={'C': <scipy.stats._distn_infrastructure.rv_frozen object at 0x7ff2ed4376a0>,\n",
       "                                        'gamma': <scipy.stats._distn_infrastructure.rv_frozen object at 0x7ff2ed4322e0>},\n",
       "                   random_state=42, verbose=2)"
      ]
     },
     "execution_count": 12,
     "metadata": {},
     "output_type": "execute_result"
    }
   ],
   "source": [
    "from sklearn.svm import SVR\n",
    "from sklearn.model_selection import RandomizedSearchCV\n",
    "from scipy.stats import reciprocal, uniform\n",
    "\n",
    "para_dic={\n",
    "    'gamma':reciprocal(0.001,0.1),'C': uniform(5,9)   \n",
    "}\n",
    "search_cv = RandomizedSearchCV(SVR(), para_dic, n_iter=20, n_jobs=1, verbose=2,cv=3, random_state=42)\n",
    "search_cv.fit(x_train_scaled[:2000], y_train[:2000])\n"
   ]
  },
  {
   "cell_type": "code",
   "execution_count": 13,
   "id": "26150202",
   "metadata": {},
   "outputs": [
    {
     "data": {
      "text/plain": [
       "SVR(C=10.506676052501415, gamma=0.0019010245319870352)"
      ]
     },
     "execution_count": 13,
     "metadata": {},
     "output_type": "execute_result"
    }
   ],
   "source": [
    "search_cv.best_estimator_"
   ]
  },
  {
   "cell_type": "code",
   "execution_count": null,
   "id": "8af8f612",
   "metadata": {},
   "outputs": [],
   "source": [
    "search_cv.best_estimator_.fit(x_train_scaled, y_train)"
   ]
  },
  {
   "cell_type": "code",
   "execution_count": null,
   "id": "44b650c4",
   "metadata": {},
   "outputs": [],
   "source": [
    "y_pred_search_cv = search_cv.best_estimator_.predict(x_train_scaled)\n",
    "accuracy_score(y_train, y_pred_search_cv)"
   ]
  }
 ],
 "metadata": {
  "kernelspec": {
   "display_name": "Python 3 (ipykernel)",
   "language": "python",
   "name": "python3"
  },
  "language_info": {
   "codemirror_mode": {
    "name": "ipython",
    "version": 3
   },
   "file_extension": ".py",
   "mimetype": "text/x-python",
   "name": "python",
   "nbconvert_exporter": "python",
   "pygments_lexer": "ipython3",
   "version": "3.9.0"
  }
 },
 "nbformat": 4,
 "nbformat_minor": 5
}
